{
 "cells": [
  {
   "cell_type": "code",
   "execution_count": 47,
   "metadata": {},
   "outputs": [],
   "source": [
    "import networkx as nx\n",
    "import matplotlib.pyplot as plt\n",
    "import numpy as np\n",
    "import scipy as sp\n",
    "import math\n",
    "import random\n",
    "import scipy.io as sio"
   ]
  },
  {
   "cell_type": "code",
   "execution_count": 48,
   "metadata": {},
   "outputs": [],
   "source": [
    "from enum import Enum\n",
    "\n",
    "class COLOR1(Enum):\n",
    "    RED = 1\n",
    "    GREEN = 2\n",
    "\n",
    "class COLOR2(Enum):\n",
    "    RED = 1\n",
    "    GREEN = 2\n",
    "    BLUE = 3\n",
    "    YELLOW = 4\n",
    "    MAGENTA = 5\n",
    "    CYAN = 6\n",
    "    WHITE = 7\n",
    "    BLACK = 8"
   ]
  },
  {
   "cell_type": "code",
   "execution_count": 49,
   "metadata": {},
   "outputs": [],
   "source": [
    "wifi = sio.loadmat('wifi.mat')['wifi']\n",
    "coords = sio.loadmat('coords.mat')['coords']"
   ]
  },
  {
   "cell_type": "markdown",
   "metadata": {},
   "source": [
    "### Problem a"
   ]
  },
  {
   "cell_type": "code",
   "execution_count": 163,
   "metadata": {},
   "outputs": [],
   "source": [
    "def P1(G,node, cost, t):\n",
    "    eta = t / 100\n",
    "    P = []\n",
    "\n",
    "    denominator =  0\n",
    "    for s in list(COLOR1):\n",
    "        denominator += np.exp(- eta * sum([cost(s, G.nodes[neigh]['state']) for neigh in G.neighbors(node)]))\n",
    "\n",
    "    for color in list(COLOR1):\n",
    "        nominator =  np.exp(- eta * sum([cost(color, G.nodes[neigh]['state']) for neigh in G.neighbors(node)]))\n",
    "        P.append(nominator / denominator)\n",
    "    \n",
    "    return P\n",
    "\n",
    "def P2(G,node, cost, t):\n",
    "    eta = t / 100\n",
    "    P = []\n",
    "\n",
    "    denominator =  0\n",
    "    for s in list(COLOR2):\n",
    "        denominator += np.exp(- eta * sum([cost(s, G.nodes[neigh]['state']) for neigh in G.neighbors(node)]))\n",
    "        \n",
    "    for color in list(COLOR2):\n",
    "        nominator =  np.exp(- eta * sum([cost(color, G.nodes[neigh]['state']) for neigh in G.neighbors(node)]))\n",
    "        P.append(nominator / denominator)\n",
    "    \n",
    "    return P\n",
    "\n",
    "def U(G, cost):\n",
    "    value = 0\n",
    "    for node in G.nodes:\n",
    "        value += sum([cost(G.nodes[node]['state'], G.nodes[neigh]['state']) for neigh in G.neighbors(node)])\n",
    "    \n",
    "    return 1 / 2 * value\n",
    "\n",
    "\n",
    "def cost1(a: COLOR, b: COLOR):\n",
    "    return 1 if a == b else 0\n",
    "\n",
    "def cost2(a: COLOR, b:COLOR):\n",
    "    value = None\n",
    "\n",
    "    if a == b:\n",
    "        value = 2\n",
    "    elif np.abs(a.value - b.value) == 1:\n",
    "        value = 1\n",
    "    else:\n",
    "        value = 0\n",
    "\n",
    "    return value\n"
   ]
  },
  {
   "cell_type": "code",
   "execution_count": 105,
   "metadata": {},
   "outputs": [
    {
     "name": "stdout",
     "output_type": "stream",
     "text": [
      "[1, 1, 1, 1, 1, 1, 1, 1, 1, 1]\n"
     ]
    }
   ],
   "source": [
    "nodes = np.arange(10)\n",
    "G = nx.Graph()\n",
    "G.add_nodes_from(nodes)\n",
    "\n",
    "edges = []\n",
    "for i in range(9):\n",
    "    edges.append((i, i+ 1))\n",
    "\n",
    "G.add_edges_from(edges)\n",
    "\n",
    "for node in G.nodes:\n",
    "    G.nodes[node]['state'] = COLOR1.RED\n",
    "\n",
    "\n",
    "\n",
    "print([G.nodes[node]['state'].value for node in G.nodes])"
   ]
  },
  {
   "cell_type": "code",
   "execution_count": 106,
   "metadata": {},
   "outputs": [
    {
     "name": "stdout",
     "output_type": "stream",
     "text": [
      "time-step : 360\n",
      "[2, 1, 2, 1, 2, 1, 2, 1, 2, 1]\n"
     ]
    }
   ],
   "source": [
    "t = 1\n",
    "potential = []\n",
    "\n",
    "while True:\n",
    "    id = random.choice(list(G.nodes))\n",
    "\n",
    "    p =  P1(G, id, cost1, t)\n",
    "    color = np.random.choice(list(COLOR1), p = p)\n",
    "\n",
    "    G.nodes[id]['state'] = color\n",
    "\n",
    "    u = U(G, cost1)\n",
    "    potential.append(u)\n",
    "    if u == 0:\n",
    "        break\n",
    "\n",
    "    \n",
    "\n",
    "    t += 1\n",
    "\n",
    "print(f'time-step : {t}')\n",
    "print([G.nodes[node]['state'].value for node in G.nodes])    "
   ]
  },
  {
   "cell_type": "code",
   "execution_count": 107,
   "metadata": {},
   "outputs": [
    {
     "data": {
      "text/plain": [
       "[<matplotlib.lines.Line2D at 0x239561f9150>]"
      ]
     },
     "execution_count": 107,
     "metadata": {},
     "output_type": "execute_result"
    },
    {
     "data": {
      "image/png": "[encoded data removed]",
      "text/plain": [
       "<Figure size 640x480 with 1 Axes>"
      ]
     },
     "metadata": {},
     "output_type": "display_data"
    }
   ],
   "source": [
    "plt.plot(potential)"
   ]
  },
  {
   "cell_type": "markdown",
   "metadata": {},
   "source": [
    "### Problem b"
   ]
  },
  {
   "cell_type": "code",
   "execution_count": 164,
   "metadata": {},
   "outputs": [],
   "source": [
    "G2 = nx.from_numpy_array(wifi)\n",
    "for node in G2.nodes:\n",
    "    G2.nodes[node]['state'] = COLOR2.RED"
   ]
  },
  {
   "cell_type": "code",
   "execution_count": 165,
   "metadata": {},
   "outputs": [
    {
     "name": "stdout",
     "output_type": "stream",
     "text": [
      "time-step : 1001\n",
      "[1, 1, 8, 7, 7, 2, 6, 6, 4, 4, 8, 4, 3, 3, 4, 1, 6, 6, 4, 8, 8, 1, 4, 6, 8, 1, 3, 5, 4, 8, 2, 3, 1, 7, 7, 4, 5, 6, 1, 5, 1, 3, 2, 1, 8, 4, 1, 5, 1, 5, 3, 7, 5, 3, 8, 5, 8, 1, 6, 6, 2, 6, 6, 8, 2, 1, 1, 2, 2, 3, 7, 3, 2, 6, 8, 5, 7, 1, 1, 4, 5, 5, 5, 1, 6, 8, 5, 1, 4, 3, 2, 3, 8, 4, 3, 5, 1, 8, 1, 1]\n"
     ]
    }
   ],
   "source": [
    "t = 1\n",
    "potential = []\n",
    "\n",
    "while True:\n",
    "    id = random.choice(list(G2.nodes))\n",
    "\n",
    "    p =  P2(G2, id, cost2, t)\n",
    "    color = np.random.choice(list(COLOR2), p = p)\n",
    "\n",
    "    G2.nodes[id]['state'] = color\n",
    "\n",
    "    u = U(G2, cost2)\n",
    "    potential.append(u)\n",
    "    if u < 1 or t > 1000:\n",
    "        break\n",
    "\n",
    "    \n",
    "\n",
    "    t += 1\n",
    "\n",
    "print(f'time-step : {t}')\n",
    "print([G2.nodes[node]['state'].value for node in G2.nodes])    "
   ]
  },
  {
   "cell_type": "code",
   "execution_count": 169,
   "metadata": {},
   "outputs": [
    {
     "data": {
      "text/plain": [
       "[<matplotlib.lines.Line2D at 0x23956f70820>]"
      ]
     },
     "execution_count": 169,
     "metadata": {},
     "output_type": "execute_result"
    },
    {
     "data": {
      "image/png": "[encoded data removed]",
      "text/plain": [
       "<Figure size 640x480 with 1 Axes>"
      ]
     },
     "metadata": {},
     "output_type": "display_data"
    }
   ],
   "source": [
    "plt.plot(potential, color = 'red')"
   ]
  },
  {
   "cell_type": "code",
   "execution_count": 168,
   "metadata": {},
   "outputs": [
    {
     "data": {
      "text/plain": [
       "4.0"
      ]
     },
     "execution_count": 168,
     "metadata": {},
     "output_type": "execute_result"
    }
   ],
   "source": [
    "min(potential)"
   ]
  },
  {
   "cell_type": "code",
   "execution_count": 170,
   "metadata": {},
   "outputs": [],
   "source": [
    "G2 = nx.from_numpy_array(wifi)\n",
    "for node in G2.nodes:\n",
    "    G2.nodes[node]['state'] = COLOR2.GREEN"
   ]
  },
  {
   "cell_type": "code",
   "execution_count": 171,
   "metadata": {},
   "outputs": [
    {
     "name": "stdout",
     "output_type": "stream",
     "text": [
      "time-step : 1001\n",
      "[5, 7, 7, 1, 3, 3, 2, 8, 5, 8, 6, 1, 2, 1, 2, 6, 3, 1, 8, 6, 8, 6, 7, 6, 5, 2, 3, 4, 6, 8, 2, 8, 8, 6, 4, 7, 6, 3, 4, 1, 1, 6, 7, 5, 8, 1, 5, 1, 8, 5, 5, 3, 8, 4, 3, 1, 3, 5, 3, 1, 6, 1, 1, 5, 6, 6, 7, 5, 3, 3, 4, 2, 5, 8, 8, 8, 1, 4, 2, 3, 8, 4, 3, 6, 3, 3, 3, 3, 8, 6, 5, 8, 1, 5, 6, 8, 1, 1, 6, 8]\n"
     ]
    }
   ],
   "source": [
    "t = 1\n",
    "potential = []\n",
    "\n",
    "while True:\n",
    "    id = random.choice(list(G2.nodes))\n",
    "\n",
    "    p =  P2(G2, id, cost2, t)\n",
    "    color = np.random.choice(list(COLOR2), p = p)\n",
    "\n",
    "    G2.nodes[id]['state'] = color\n",
    "\n",
    "    u = U(G2, cost2)\n",
    "    potential.append(u)\n",
    "    if u < 1 or t > 1000:\n",
    "        break\n",
    "\n",
    "    \n",
    "\n",
    "    t += 1\n",
    "\n",
    "print(f'time-step : {t}')\n",
    "print([G2.nodes[node]['state'].value for node in G2.nodes])   "
   ]
  },
  {
   "cell_type": "code",
   "execution_count": 172,
   "metadata": {},
   "outputs": [
    {
     "data": {
      "text/plain": [
       "[<matplotlib.lines.Line2D at 0x2395760e860>]"
      ]
     },
     "execution_count": 172,
     "metadata": {},
     "output_type": "execute_result"
    },
    {
     "data": {
      "image/png": "[encoded data removed]",
      "text/plain": [
       "<Figure size 640x480 with 1 Axes>"
      ]
     },
     "metadata": {},
     "output_type": "display_data"
    }
   ],
   "source": [
    "plt.plot(potential, color = 'green')"
   ]
  },
  {
   "cell_type": "code",
   "execution_count": 173,
   "metadata": {},
   "outputs": [
    {
     "data": {
      "text/plain": [
       "4.0"
      ]
     },
     "execution_count": 173,
     "metadata": {},
     "output_type": "execute_result"
    }
   ],
   "source": [
    "min(potential)"
   ]
  },
  {
   "cell_type": "code",
   "execution_count": null,
   "metadata": {},
   "outputs": [],
   "source": []
  }
 ],
 "metadata": {
  "kernelspec": {
   "display_name": "NetWorkDynamic2023",
   "language": "python",
   "name": "python3"
  },
  "language_info": {
   "codemirror_mode": {
    "name": "ipython",
    "version": 3
   },
   "file_extension": ".py",
   "mimetype": "text/x-python",
   "name": "python",
   "nbconvert_exporter": "python",
   "pygments_lexer": "ipython3",
   "version": "3.10.13"
  }
 },
 "nbformat": 4,
 "nbformat_minor": 2
}
